{
 "cells": [
  {
   "cell_type": "code",
   "execution_count": 6,
   "metadata": {},
   "outputs": [],
   "source": [
    "import numpy as np\n",
    "import pandas as pd"
   ]
  },
  {
   "cell_type": "code",
   "execution_count": 7,
   "metadata": {},
   "outputs": [],
   "source": [
    "from sklearn.preprocessing import LabelEncoder, OneHotEncoder\n",
    "from sklearn.cross_validation import train_test_split\n",
    "from sklearn.linear_model import LinearRegression\n",
    "import statsmodels.formula.api as sm"
   ]
  },
  {
   "cell_type": "code",
   "execution_count": 8,
   "metadata": {},
   "outputs": [],
   "source": [
    "dataset = pd.read_csv('football_final.csv')"
   ]
  },
  {
   "cell_type": "code",
   "execution_count": 10,
   "metadata": {},
   "outputs": [
    {
     "data": {
      "text/html": [
       "<div>\n",
       "<style>\n",
       "    .dataframe thead tr:only-child th {\n",
       "        text-align: right;\n",
       "    }\n",
       "\n",
       "    .dataframe thead th {\n",
       "        text-align: left;\n",
       "    }\n",
       "\n",
       "    .dataframe tbody tr th {\n",
       "        vertical-align: top;\n",
       "    }\n",
       "</style>\n",
       "<table border=\"1\" class=\"dataframe\">\n",
       "  <thead>\n",
       "    <tr style=\"text-align: right;\">\n",
       "      <th></th>\n",
       "      <th>Player_Id</th>\n",
       "      <th>Player_name</th>\n",
       "      <th>Session_Id</th>\n",
       "      <th>Session_date</th>\n",
       "      <th>Session_Start</th>\n",
       "      <th>Session_End</th>\n",
       "      <th>Derived_kpi_Id</th>\n",
       "      <th>splitId</th>\n",
       "      <th>Session_type</th>\n",
       "      <th>Player_position</th>\n",
       "      <th>...</th>\n",
       "      <th>MetabolicPowerZone6Distance</th>\n",
       "      <th>MetabolicPowerZone1Time</th>\n",
       "      <th>MetabolicPowerZone2Time</th>\n",
       "      <th>MetabolicPowerZone3Time</th>\n",
       "      <th>MetabolicPowerZone4Time</th>\n",
       "      <th>MetabolicPowerZone5Time</th>\n",
       "      <th>MetabolicPowerZone6Time</th>\n",
       "      <th>HighIntensityBurstNumber</th>\n",
       "      <th>HighIntensityBurstDuration</th>\n",
       "      <th>RPE</th>\n",
       "    </tr>\n",
       "  </thead>\n",
       "  <tbody>\n",
       "    <tr>\n",
       "      <th>0</th>\n",
       "      <td>10</td>\n",
       "      <td>cormac.costello</td>\n",
       "      <td>125</td>\n",
       "      <td>20-08-2016</td>\n",
       "      <td>20-08-2016</td>\n",
       "      <td>20-08-2016</td>\n",
       "      <td>15318</td>\n",
       "      <td>866</td>\n",
       "      <td>Pitch Session</td>\n",
       "      <td>6</td>\n",
       "      <td>...</td>\n",
       "      <td>11.61</td>\n",
       "      <td>487.0</td>\n",
       "      <td>174.2</td>\n",
       "      <td>30.4</td>\n",
       "      <td>18.5</td>\n",
       "      <td>12.0</td>\n",
       "      <td>2.6</td>\n",
       "      <td>2</td>\n",
       "      <td>24.1</td>\n",
       "      <td>4</td>\n",
       "    </tr>\n",
       "    <tr>\n",
       "      <th>1</th>\n",
       "      <td>13</td>\n",
       "      <td>darren.daly</td>\n",
       "      <td>125</td>\n",
       "      <td>20-08-2016</td>\n",
       "      <td>20-08-2016</td>\n",
       "      <td>20-08-2016</td>\n",
       "      <td>15326</td>\n",
       "      <td>866</td>\n",
       "      <td>Pitch Session</td>\n",
       "      <td>2</td>\n",
       "      <td>...</td>\n",
       "      <td>12.88</td>\n",
       "      <td>449.7</td>\n",
       "      <td>171.5</td>\n",
       "      <td>35.2</td>\n",
       "      <td>22.0</td>\n",
       "      <td>13.0</td>\n",
       "      <td>3.7</td>\n",
       "      <td>1</td>\n",
       "      <td>17.3</td>\n",
       "      <td>4</td>\n",
       "    </tr>\n",
       "    <tr>\n",
       "      <th>2</th>\n",
       "      <td>14</td>\n",
       "      <td>michael.fitzsimons</td>\n",
       "      <td>125</td>\n",
       "      <td>20-08-2016</td>\n",
       "      <td>20-08-2016</td>\n",
       "      <td>20-08-2016</td>\n",
       "      <td>15327</td>\n",
       "      <td>854</td>\n",
       "      <td>Pitch Session</td>\n",
       "      <td>2</td>\n",
       "      <td>...</td>\n",
       "      <td>193.19</td>\n",
       "      <td>5156.3</td>\n",
       "      <td>1068.7</td>\n",
       "      <td>258.9</td>\n",
       "      <td>217.6</td>\n",
       "      <td>133.4</td>\n",
       "      <td>41.1</td>\n",
       "      <td>1</td>\n",
       "      <td>35.4</td>\n",
       "      <td>4</td>\n",
       "    </tr>\n",
       "    <tr>\n",
       "      <th>3</th>\n",
       "      <td>14</td>\n",
       "      <td>michael.fitzsimons</td>\n",
       "      <td>125</td>\n",
       "      <td>20-08-2016</td>\n",
       "      <td>20-08-2016</td>\n",
       "      <td>20-08-2016</td>\n",
       "      <td>15328</td>\n",
       "      <td>855</td>\n",
       "      <td>Pitch Session</td>\n",
       "      <td>2</td>\n",
       "      <td>...</td>\n",
       "      <td>5.03</td>\n",
       "      <td>285.6</td>\n",
       "      <td>101.1</td>\n",
       "      <td>82.8</td>\n",
       "      <td>71.1</td>\n",
       "      <td>24.2</td>\n",
       "      <td>1.2</td>\n",
       "      <td>0</td>\n",
       "      <td>0.0</td>\n",
       "      <td>4</td>\n",
       "    </tr>\n",
       "    <tr>\n",
       "      <th>4</th>\n",
       "      <td>14</td>\n",
       "      <td>michael.fitzsimons</td>\n",
       "      <td>125</td>\n",
       "      <td>20-08-2016</td>\n",
       "      <td>20-08-2016</td>\n",
       "      <td>20-08-2016</td>\n",
       "      <td>15329</td>\n",
       "      <td>856</td>\n",
       "      <td>Pitch Session</td>\n",
       "      <td>2</td>\n",
       "      <td>...</td>\n",
       "      <td>11.82</td>\n",
       "      <td>2303.2</td>\n",
       "      <td>126.0</td>\n",
       "      <td>14.1</td>\n",
       "      <td>22.4</td>\n",
       "      <td>16.0</td>\n",
       "      <td>3.1</td>\n",
       "      <td>0</td>\n",
       "      <td>0.0</td>\n",
       "      <td>4</td>\n",
       "    </tr>\n",
       "  </tbody>\n",
       "</table>\n",
       "<p>5 rows × 112 columns</p>\n",
       "</div>"
      ],
      "text/plain": [
       "   Player_Id         Player_name  Session_Id Session_date Session_Start  \\\n",
       "0         10     cormac.costello         125   20-08-2016    20-08-2016   \n",
       "1         13         darren.daly         125   20-08-2016    20-08-2016   \n",
       "2         14  michael.fitzsimons         125   20-08-2016    20-08-2016   \n",
       "3         14  michael.fitzsimons         125   20-08-2016    20-08-2016   \n",
       "4         14  michael.fitzsimons         125   20-08-2016    20-08-2016   \n",
       "\n",
       "  Session_End  Derived_kpi_Id  splitId   Session_type  Player_position ...   \\\n",
       "0  20-08-2016           15318      866  Pitch Session                6 ...    \n",
       "1  20-08-2016           15326      866  Pitch Session                2 ...    \n",
       "2  20-08-2016           15327      854  Pitch Session                2 ...    \n",
       "3  20-08-2016           15328      855  Pitch Session                2 ...    \n",
       "4  20-08-2016           15329      856  Pitch Session                2 ...    \n",
       "\n",
       "   MetabolicPowerZone6Distance  MetabolicPowerZone1Time  \\\n",
       "0                        11.61                    487.0   \n",
       "1                        12.88                    449.7   \n",
       "2                       193.19                   5156.3   \n",
       "3                         5.03                    285.6   \n",
       "4                        11.82                   2303.2   \n",
       "\n",
       "   MetabolicPowerZone2Time  MetabolicPowerZone3Time  MetabolicPowerZone4Time  \\\n",
       "0                    174.2                     30.4                     18.5   \n",
       "1                    171.5                     35.2                     22.0   \n",
       "2                   1068.7                    258.9                    217.6   \n",
       "3                    101.1                     82.8                     71.1   \n",
       "4                    126.0                     14.1                     22.4   \n",
       "\n",
       "   MetabolicPowerZone5Time  MetabolicPowerZone6Time  HighIntensityBurstNumber  \\\n",
       "0                     12.0                      2.6                         2   \n",
       "1                     13.0                      3.7                         1   \n",
       "2                    133.4                     41.1                         1   \n",
       "3                     24.2                      1.2                         0   \n",
       "4                     16.0                      3.1                         0   \n",
       "\n",
       "   HighIntensityBurstDuration  RPE  \n",
       "0                        24.1    4  \n",
       "1                        17.3    4  \n",
       "2                        35.4    4  \n",
       "3                         0.0    4  \n",
       "4                         0.0    4  \n",
       "\n",
       "[5 rows x 112 columns]"
      ]
     },
     "execution_count": 10,
     "metadata": {},
     "output_type": "execute_result"
    }
   ],
   "source": [
    "dataset.head()"
   ]
  },
  {
   "cell_type": "code",
   "execution_count": 11,
   "metadata": {},
   "outputs": [],
   "source": [
    "del dataset['updated']"
   ]
  },
  {
   "cell_type": "code",
   "execution_count": 12,
   "metadata": {},
   "outputs": [],
   "source": [
    "X = dataset.iloc[:, 8:-1].values\n",
    "y = dataset['RPE'].values"
   ]
  },
  {
   "cell_type": "code",
   "execution_count": 15,
   "metadata": {},
   "outputs": [
    {
     "data": {
      "text/plain": [
       "array(['Pitch Session', 6, 80, 320, 0.77, 0.79, 0.77, 602.33, 602.33,\n",
       "       374.85, 135.43, 41.58, 42.89, 7.57, 0.0, 0.83, 6.05, 26.91, 15.54,\n",
       "       6.19, 2.16, 2.52, 0.51, 0.0, 53.05, 2.67, 4.19, 4.87, 6.37, 4.98,\n",
       "       29.96, 15.04, 60.1, 455.8, 160.3, 48.5, 0.0, 0.0, 217, 116, 52, 20,\n",
       "       11, 4, 14, 0, 4, 84, 58, 126, 74, 539.81, 169.01, 356.93, 713.27,\n",
       "       4.28, 282.91, 62.51, 146.15, 339.32, 3.82, 0.11, 13, 55, 14, 1, 1,\n",
       "       0, 5, 31, 11, 9, 2, 0, 64.0, 4.62, 724.7, 49.87, 56.14, 720.71,\n",
       "       169.0, 12.12706908, 6.41385, 4.809375, 6.771875, 9.017366842000001,\n",
       "       133.35, 14.6, 196.85, 235.99, 60.34, 53.01, 44.53, 11.61, 487.0,\n",
       "       174.2, 30.4, 18.5, 12.0, 2.6, 2, 24.1], dtype=object)"
      ]
     },
     "execution_count": 15,
     "metadata": {},
     "output_type": "execute_result"
    }
   ],
   "source": [
    "X[0]"
   ]
  },
  {
   "cell_type": "code",
   "execution_count": 16,
   "metadata": {},
   "outputs": [],
   "source": [
    "labelencoder = LabelEncoder()\n",
    "X[:, 0] = labelencoder.fit_transform(X[:, 0])"
   ]
  },
  {
   "cell_type": "code",
   "execution_count": 17,
   "metadata": {},
   "outputs": [
    {
     "data": {
      "text/plain": [
       "array([3, 6, 80, 320, 0.77, 0.79, 0.77, 602.33, 602.33, 374.85, 135.43,\n",
       "       41.58, 42.89, 7.57, 0.0, 0.83, 6.05, 26.91, 15.54, 6.19, 2.16, 2.52,\n",
       "       0.51, 0.0, 53.05, 2.67, 4.19, 4.87, 6.37, 4.98, 29.96, 15.04, 60.1,\n",
       "       455.8, 160.3, 48.5, 0.0, 0.0, 217, 116, 52, 20, 11, 4, 14, 0, 4, 84,\n",
       "       58, 126, 74, 539.81, 169.01, 356.93, 713.27, 4.28, 282.91, 62.51,\n",
       "       146.15, 339.32, 3.82, 0.11, 13, 55, 14, 1, 1, 0, 5, 31, 11, 9, 2, 0,\n",
       "       64.0, 4.62, 724.7, 49.87, 56.14, 720.71, 169.0, 12.12706908,\n",
       "       6.41385, 4.809375, 6.771875, 9.017366842000001, 133.35, 14.6,\n",
       "       196.85, 235.99, 60.34, 53.01, 44.53, 11.61, 487.0, 174.2, 30.4,\n",
       "       18.5, 12.0, 2.6, 2, 24.1], dtype=object)"
      ]
     },
     "execution_count": 17,
     "metadata": {},
     "output_type": "execute_result"
    }
   ],
   "source": [
    "X[0]"
   ]
  },
  {
   "cell_type": "code",
   "execution_count": 18,
   "metadata": {},
   "outputs": [],
   "source": [
    "onehotencoder = OneHotEncoder(categorical_features = [0])\n",
    "X = onehotencoder.fit_transform(X).toarray()\n",
    "\n",
    "X = X[:, 1:]"
   ]
  },
  {
   "cell_type": "code",
   "execution_count": 20,
   "metadata": {},
   "outputs": [],
   "source": [
    "X_train, X_test, y_train, y_test = train_test_split(X, y, test_size = 0.2, random_state = 0)"
   ]
  },
  {
   "cell_type": "code",
   "execution_count": 21,
   "metadata": {},
   "outputs": [],
   "source": [
    "regressor = LinearRegression()"
   ]
  },
  {
   "cell_type": "code",
   "execution_count": 22,
   "metadata": {},
   "outputs": [
    {
     "data": {
      "text/plain": [
       "LinearRegression(copy_X=True, fit_intercept=True, n_jobs=1, normalize=False)"
      ]
     },
     "execution_count": 22,
     "metadata": {},
     "output_type": "execute_result"
    }
   ],
   "source": [
    "regressor.fit(X_train, y_train)"
   ]
  },
  {
   "cell_type": "code",
   "execution_count": 23,
   "metadata": {},
   "outputs": [],
   "source": [
    "y_pred = regressor.predict(X_test)"
   ]
  },
  {
   "cell_type": "code",
   "execution_count": 24,
   "metadata": {},
   "outputs": [],
   "source": [
    "def backwardElimination_pValue(x, sl):\n",
    "    numVars = len(x[0])\n",
    "    for i in range(0, numVars):\n",
    "        regressor_OLS = sm.OLS(y, x).fit()\n",
    "        maxVar = max(regressor_OLS.pvalues).astype(float)\n",
    "        if maxVar > sl:\n",
    "            for j in range(0, numVars - i):\n",
    "                if (regressor_OLS.pvalues[j].astype(float) == maxVar):\n",
    "                    x = np.delete(x, j, 1)\n",
    "    print (regressor_OLS.summary())\n",
    "    return x"
   ]
  },
  {
   "cell_type": "code",
   "execution_count": 25,
   "metadata": {},
   "outputs": [
    {
     "data": {
      "text/plain": [
       "(20711, 104)"
      ]
     },
     "execution_count": 25,
     "metadata": {},
     "output_type": "execute_result"
    }
   ],
   "source": [
    "X.shape"
   ]
  },
  {
   "cell_type": "code",
   "execution_count": 26,
   "metadata": {},
   "outputs": [],
   "source": [
    "SL = 0.05\n",
    "X_opt = X[:, 0:105]"
   ]
  },
  {
   "cell_type": "code",
   "execution_count": 27,
   "metadata": {},
   "outputs": [
    {
     "name": "stdout",
     "output_type": "stream",
     "text": [
      "                            OLS Regression Results                            \n",
      "==============================================================================\n",
      "Dep. Variable:                      y   R-squared:                       0.984\n",
      "Model:                            OLS   Adj. R-squared:                  0.984\n",
      "Method:                 Least Squares   F-statistic:                 2.008e+04\n",
      "Date:                Fri, 13 Apr 2018   Prob (F-statistic):               0.00\n",
      "Time:                        20:24:46   Log-Likelihood:                -26065.\n",
      "No. Observations:               20711   AIC:                         5.226e+04\n",
      "Df Residuals:                   20648   BIC:                         5.276e+04\n",
      "Df Model:                          63                                         \n",
      "Covariance Type:            nonrobust                                         \n",
      "==============================================================================\n",
      "                 coef    std err          t      P>|t|      [0.025      0.975]\n",
      "------------------------------------------------------------------------------\n",
      "x1             0.5135      0.040     12.951      0.000       0.436       0.591\n",
      "x2             0.9246      0.201      4.604      0.000       0.531       1.318\n",
      "x3            -0.1281      0.035     -3.681      0.000      -0.196      -0.060\n",
      "x4             0.0401      0.004      9.621      0.000       0.032       0.048\n",
      "x5            -0.0480      0.001    -87.438      0.000      -0.049      -0.047\n",
      "x6             0.0129   5.53e-05    233.106      0.000       0.013       0.013\n",
      "x7             1.3949      0.075     18.655      0.000       1.248       1.542\n",
      "x8             1.6515      0.079     20.934      0.000       1.497       1.806\n",
      "x9             1.2632      0.077     16.440      0.000       1.113       1.414\n",
      "x10           -0.0040      0.001     -4.204      0.000      -0.006      -0.002\n",
      "x11           -0.0046      0.001     -4.237      0.000      -0.007      -0.002\n",
      "x12           -0.0046      0.001     -3.938      0.000      -0.007      -0.002\n",
      "x13           -0.0061      0.001     -4.680      0.000      -0.009      -0.004\n",
      "x14           -4.5344      2.073     -2.188      0.029      -8.597      -0.472\n",
      "x15            0.0259      0.007      3.879      0.000       0.013       0.039\n",
      "x16            0.1294      0.023      5.660      0.000       0.085       0.174\n",
      "x17           -0.0934      0.023     -4.137      0.000      -0.138      -0.049\n",
      "x18           -0.0843      0.018     -4.614      0.000      -0.120      -0.048\n",
      "x19            0.0029      0.000      5.791      0.000       0.002       0.004\n",
      "x20           -0.0117      0.001     -9.171      0.000      -0.014      -0.009\n",
      "x21           -0.0028      0.001     -3.060      0.002      -0.005      -0.001\n",
      "x22           -0.0070      0.002     -3.346      0.001      -0.011      -0.003\n",
      "x23        -8.901e-05    8.8e-06    -10.114      0.000      -0.000   -7.18e-05\n",
      "x24           -0.0002   2.97e-05     -7.630      0.000      -0.000      -0.000\n",
      "x25           -0.0002   2.64e-05     -7.676      0.000      -0.000      -0.000\n",
      "x26           -0.0005    5.7e-05     -8.602      0.000      -0.001      -0.000\n",
      "x27           -0.0030      0.001     -5.286      0.000      -0.004      -0.002\n",
      "x28            0.0107      0.005      2.111      0.035       0.001       0.021\n",
      "x29            0.0038      0.002      2.396      0.017       0.001       0.007\n",
      "x30           -0.0035      0.001     -2.601      0.009      -0.006      -0.001\n",
      "x31            0.0036      0.001      6.723      0.000       0.003       0.005\n",
      "x32           -0.0003   7.35e-05     -3.748      0.000      -0.000      -0.000\n",
      "x33           -0.0002   8.33e-05     -2.571      0.010      -0.000   -5.09e-05\n",
      "x34         8.261e-05   2.22e-05      3.726      0.000    3.92e-05       0.000\n",
      "x35         5.151e-05   1.56e-05      3.306      0.001     2.1e-05     8.2e-05\n",
      "x36        -2.666e-05   7.88e-06     -3.384      0.001   -4.21e-05   -1.12e-05\n",
      "x37            0.0006    9.9e-05      5.875      0.000       0.000       0.001\n",
      "x38            0.0001   4.91e-05      2.393      0.017    2.13e-05       0.000\n",
      "x39            0.0003   5.45e-05      5.688      0.000       0.000       0.000\n",
      "x40           -0.0006      0.000     -4.862      0.000      -0.001      -0.000\n",
      "x41            0.0667      0.010      6.447      0.000       0.046       0.087\n",
      "x42           -0.0038      0.001     -5.258      0.000      -0.005      -0.002\n",
      "x43           -0.0032      0.001     -3.340      0.001      -0.005      -0.001\n",
      "x44           -0.0122      0.002     -7.684      0.000      -0.015      -0.009\n",
      "x45            0.0199      0.004      4.611      0.000       0.011       0.028\n",
      "x46           -0.0025      0.000     -8.443      0.000      -0.003      -0.002\n",
      "x47            0.0756      0.018      4.115      0.000       0.040       0.112\n",
      "x48            0.0679      0.035      1.961      0.050    1.55e-05       0.136\n",
      "x49            0.0125      0.006      1.962      0.050    9.63e-06       0.025\n",
      "x50           -0.0011      0.000     -5.121      0.000      -0.001      -0.001\n",
      "x51           -0.0066      0.001     -7.522      0.000      -0.008      -0.005\n",
      "x52            0.0116      0.001     10.194      0.000       0.009       0.014\n",
      "x53            0.0003      0.000      2.604      0.009    8.13e-05       0.001\n",
      "x54           -0.0011      0.000     -3.889      0.000      -0.002      -0.001\n",
      "x55           -0.0007      0.000     -5.553      0.000      -0.001      -0.000\n",
      "x56           -0.0047      0.001     -5.778      0.000      -0.006      -0.003\n",
      "x57           -0.0157      0.006     -2.421      0.016      -0.028      -0.003\n",
      "x58           -0.0244      0.007     -3.707      0.000      -0.037      -0.011\n",
      "x59            0.0011      0.000      2.557      0.011       0.000       0.002\n",
      "x60            0.0137      0.003      5.378      0.000       0.009       0.019\n",
      "x61            0.0113      0.004      2.595      0.009       0.003       0.020\n",
      "x62            0.0682      0.008      8.835      0.000       0.053       0.083\n",
      "x63           -0.0085      0.002     -3.792      0.000      -0.013      -0.004\n",
      "==============================================================================\n",
      "Omnibus:                     6941.792   Durbin-Watson:                   0.996\n",
      "Prob(Omnibus):                  0.000   Jarque-Bera (JB):            56083.013\n",
      "Skew:                          -1.387   Prob(JB):                         0.00\n",
      "Kurtosis:                      10.569   Cond. No.                     4.43e+06\n",
      "==============================================================================\n",
      "\n",
      "Warnings:\n",
      "[1] Standard Errors assume that the covariance matrix of the errors is correctly specified.\n",
      "[2] The condition number is large, 4.43e+06. This might indicate that there are\n",
      "strong multicollinearity or other numerical problems.\n"
     ]
    }
   ],
   "source": [
    "X_Modeled = backwardElimination_pValue(X_opt, SL)"
   ]
  },
  {
   "cell_type": "code",
   "execution_count": 28,
   "metadata": {},
   "outputs": [],
   "source": [
    "X_train_p, X_test_p, y_train_p, y_test_p = train_test_split(X_Modeled, y, test_size = 0.2, random_state = 0)\n",
    "regressor.fit(X_train_p, y_train_p)\n",
    "y_pred_p = regressor.predict(X_test_p)"
   ]
  },
  {
   "cell_type": "code",
   "execution_count": 29,
   "metadata": {},
   "outputs": [],
   "source": [
    "def backwardElimination_Rsquared(x, SL):\n",
    "    numVars = len(x[0])\n",
    "    temp = np.zeros((20711,104)).astype(int)\n",
    "    for i in range(0, numVars):\n",
    "        regressor_OLS = sm.OLS(y, x).fit()\n",
    "        maxVar = max(regressor_OLS.pvalues).astype(float)\n",
    "        adjR_before = regressor_OLS.rsquared_adj.astype(float)\n",
    "        if maxVar > SL:\n",
    "            for j in range(0, numVars - i):\n",
    "                if (regressor_OLS.pvalues[j].astype(float) == maxVar):\n",
    "                    temp[:,j] = x[:, j]\n",
    "                    x = np.delete(x, j, 1)\n",
    "                    tmp_regressor = sm.OLS(y, x).fit()\n",
    "                    adjR_after = tmp_regressor.rsquared_adj.astype(float)\n",
    "                    if (adjR_before >= adjR_after):\n",
    "                        x_rollback = np.hstack((x, temp[:,[0,j]]))\n",
    "                        x_rollback = np.delete(x_rollback, j, 1)\n",
    "                        print (regressor_OLS.summary())\n",
    "                        return x_rollback\n",
    "                    else:\n",
    "                        continue\n",
    "    regressor_OLS.summary()\n",
    "    return x"
   ]
  },
  {
   "cell_type": "code",
   "execution_count": 30,
   "metadata": {},
   "outputs": [
    {
     "name": "stdout",
     "output_type": "stream",
     "text": [
      "                            OLS Regression Results                            \n",
      "==============================================================================\n",
      "Dep. Variable:                      y   R-squared:                       0.984\n",
      "Model:                            OLS   Adj. R-squared:                  0.984\n",
      "Method:                 Least Squares   F-statistic:                 1.488e+04\n",
      "Date:                Fri, 13 Apr 2018   Prob (F-statistic):               0.00\n",
      "Time:                        20:28:05   Log-Likelihood:                -26051.\n",
      "No. Observations:               20711   AIC:                         5.227e+04\n",
      "Df Residuals:                   20626   BIC:                         5.295e+04\n",
      "Df Model:                          85                                         \n",
      "Covariance Type:            nonrobust                                         \n",
      "==============================================================================\n",
      "                 coef    std err          t      P>|t|      [0.025      0.975]\n",
      "------------------------------------------------------------------------------\n",
      "x1             0.5152      0.040     12.925      0.000       0.437       0.593\n",
      "x2             0.9379      0.202      4.650      0.000       0.543       1.333\n",
      "x3            -0.1297      0.035     -3.716      0.000      -0.198      -0.061\n",
      "x4             0.0390      0.004      9.202      0.000       0.031       0.047\n",
      "x5            -0.0481      0.001    -86.361      0.000      -0.049      -0.047\n",
      "x6             0.0129   5.61e-05    230.094      0.000       0.013       0.013\n",
      "x7             1.3961      0.075     18.636      0.000       1.249       1.543\n",
      "x8             1.6485      0.079     20.862      0.000       1.494       1.803\n",
      "x9             1.2594      0.077     16.368      0.000       1.109       1.410\n",
      "x10           -0.0097      0.003     -2.794      0.005      -0.016      -0.003\n",
      "x11           -0.0030      0.003     -0.969      0.333      -0.009       0.003\n",
      "x12           -0.0028      0.002     -1.307      0.191      -0.007       0.001\n",
      "x13           -0.0047      0.003     -1.812      0.070      -0.010       0.000\n",
      "x14           -0.0037      0.002     -1.891      0.059      -0.008       0.000\n",
      "x15           -4.4176      2.073     -2.131      0.033      -8.481      -0.354\n",
      "x16            0.0269      0.007      4.003      0.000       0.014       0.040\n",
      "x17            0.2829      0.084      3.372      0.001       0.118       0.447\n",
      "x18           -0.1601      0.060     -2.663      0.008      -0.278      -0.042\n",
      "x19           -0.1650      0.083     -1.998      0.046      -0.327      -0.003\n",
      "x20           -0.1308      0.095     -1.380      0.168      -0.317       0.055\n",
      "x21           -0.1706      0.088     -1.934      0.053      -0.344       0.002\n",
      "x22           -0.2247      0.077     -2.909      0.004      -0.376      -0.073\n",
      "x23            0.0097      0.005      2.146      0.032       0.001       0.019\n",
      "x24           -0.0085      0.005     -1.801      0.072      -0.018       0.001\n",
      "x25           -0.0248      0.007     -3.411      0.001      -0.039      -0.011\n",
      "x26           -0.0102      0.005     -2.146      0.032      -0.019      -0.001\n",
      "x27           -0.0133      0.005     -2.753      0.006      -0.023      -0.004\n",
      "x28            0.0011      0.001      0.943      0.346      -0.001       0.003\n",
      "x29        -9.754e-05   1.07e-05     -9.102      0.000      -0.000   -7.65e-05\n",
      "x30           -0.0003   5.54e-05     -4.931      0.000      -0.000      -0.000\n",
      "x31        -9.422e-05   6.39e-05     -1.474      0.141      -0.000    3.11e-05\n",
      "x32           -0.0003      0.000     -2.683      0.007      -0.001   -8.53e-05\n",
      "x33           -0.0007      0.000     -3.554      0.000      -0.001      -0.000\n",
      "x34         2.567e-05   2.59e-05      0.991      0.322   -2.51e-05    7.64e-05\n",
      "x35            0.0006      0.000      1.281      0.200      -0.000       0.002\n",
      "x36           -0.0017      0.001     -1.606      0.108      -0.004       0.000\n",
      "x37           -0.0062      0.003     -2.388      0.017      -0.011      -0.001\n",
      "x38            0.0093      0.005      1.812      0.070      -0.001       0.019\n",
      "x39            0.0041      0.002      2.545      0.011       0.001       0.007\n",
      "x40           -0.0030      0.001     -2.155      0.031      -0.006      -0.000\n",
      "x41            0.0020      0.001      1.509      0.131      -0.001       0.005\n",
      "x42            0.0037      0.001      3.519      0.000       0.002       0.006\n",
      "x43           -0.0003   7.84e-05     -3.451      0.001      -0.000      -0.000\n",
      "x44           -0.0002   9.22e-05     -2.289      0.022      -0.000   -3.03e-05\n",
      "x45         7.908e-05   2.55e-05      3.107      0.002    2.92e-05       0.000\n",
      "x46         5.685e-05    1.7e-05      3.340      0.001    2.35e-05    9.02e-05\n",
      "x47        -2.935e-05   8.08e-06     -3.633      0.000   -4.52e-05   -1.35e-05\n",
      "x48            0.0006      0.000      5.846      0.000       0.000       0.001\n",
      "x49            0.0001   5.28e-05      2.364      0.018    2.13e-05       0.000\n",
      "x50            0.0003   5.75e-05      5.658      0.000       0.000       0.000\n",
      "x51           -0.0006      0.000     -4.949      0.000      -0.001      -0.000\n",
      "x52            0.0678      0.010      6.487      0.000       0.047       0.088\n",
      "x53            0.1162      0.064      1.829      0.067      -0.008       0.241\n",
      "x54            0.0011      0.001      0.829      0.407      -0.001       0.004\n",
      "x55           -0.0020      0.001     -1.514      0.130      -0.005       0.001\n",
      "x56           -0.0014      0.001     -1.018      0.309      -0.004       0.001\n",
      "x57           -0.0100      0.002     -6.450      0.000      -0.013      -0.007\n",
      "x58            0.0040      0.002      1.696      0.090      -0.001       0.009\n",
      "x59            0.0102      0.005      2.043      0.041       0.000       0.020\n",
      "x60           -0.0026      0.001     -2.404      0.016      -0.005      -0.000\n",
      "x61           -0.0040      0.001     -3.963      0.000      -0.006      -0.002\n",
      "x62           -0.0030      0.001     -2.969      0.003      -0.005      -0.001\n",
      "x63           -0.0017      0.002     -1.077      0.282      -0.005       0.001\n",
      "x64           -0.0032      0.003     -1.275      0.202      -0.008       0.002\n",
      "x65            0.0181      0.004      4.757      0.000       0.011       0.026\n",
      "x66           -0.0025      0.000     -8.253      0.000      -0.003      -0.002\n",
      "x67            0.0772      0.018      4.181      0.000       0.041       0.113\n",
      "x68            0.0657      0.035      1.899      0.058      -0.002       0.134\n",
      "x69            0.0374      0.023      1.612      0.107      -0.008       0.083\n",
      "x70           -0.0015      0.000     -4.519      0.000      -0.002      -0.001\n",
      "x71            0.0128      0.010      1.282      0.200      -0.007       0.032\n",
      "x72           -0.0106      0.007     -1.553      0.120      -0.024       0.003\n",
      "x73           -0.0185      0.008     -2.215      0.027      -0.035      -0.002\n",
      "x74            0.0048      0.005      0.973      0.330      -0.005       0.015\n",
      "x75            0.0023      0.003      0.903      0.366      -0.003       0.007\n",
      "x76            0.0004      0.000      2.790      0.005       0.000       0.001\n",
      "x77           -0.1023      0.101     -1.014      0.311      -0.300       0.095\n",
      "x78           -0.0018      0.001     -2.782      0.005      -0.003      -0.001\n",
      "x79           -0.0015      0.001     -2.556      0.011      -0.003      -0.000\n",
      "x80           -0.0055      0.001     -4.397      0.000      -0.008      -0.003\n",
      "x81           -0.0414      0.023     -1.785      0.074      -0.087       0.004\n",
      "x82           -0.0495      0.023     -2.124      0.034      -0.095      -0.004\n",
      "x83            0.0016      0.001      2.114      0.034       0.000       0.003\n",
      "x84            0.0143      0.003      4.643      0.000       0.008       0.020\n",
      "x85            0.1139      0.101      1.132      0.258      -0.083       0.311\n",
      "x86            0.1698      0.101      1.677      0.094      -0.029       0.368\n",
      "x87           -0.0077      0.002     -3.296      0.001      -0.012      -0.003\n",
      "==============================================================================\n",
      "Omnibus:                     6934.962   Durbin-Watson:                   0.998\n",
      "Prob(Omnibus):                  0.000   Jarque-Bera (JB):            56089.343\n",
      "Skew:                          -1.385   Prob(JB):                         0.00\n",
      "Kurtosis:                      10.571   Cond. No.                     1.09e+16\n",
      "==============================================================================\n",
      "\n",
      "Warnings:\n",
      "[1] Standard Errors assume that the covariance matrix of the errors is correctly specified.\n",
      "[2] The smallest eigenvalue is 2.87e-20. This might indicate that there are\n",
      "strong multicollinearity problems or that the design matrix is singular.\n"
     ]
    }
   ],
   "source": [
    "X_Modeled_Rsquared = backwardElimination_Rsquared(X_opt, SL)"
   ]
  },
  {
   "cell_type": "code",
   "execution_count": 31,
   "metadata": {},
   "outputs": [],
   "source": [
    "X_train_r, X_test_r, y_train_r, y_test_r = train_test_split(X_Modeled_Rsquared, y, test_size = 0.2, random_state = 0)\n",
    "regressor.fit(X_train_r, y_train_r)\n",
    "y_pred_r = regressor.predict(X_test_r)"
   ]
  },
  {
   "cell_type": "code",
   "execution_count": 32,
   "metadata": {},
   "outputs": [
    {
     "data": {
      "text/plain": [
       "0.83736824473442317"
      ]
     },
     "execution_count": 32,
     "metadata": {},
     "output_type": "execute_result"
    }
   ],
   "source": [
    "from sklearn.metrics import r2_score\n",
    "\n",
    "r2_score(y_test, y_pred)\n"
   ]
  },
  {
   "cell_type": "code",
   "execution_count": 33,
   "metadata": {},
   "outputs": [
    {
     "data": {
      "text/plain": [
       "1.0"
      ]
     },
     "execution_count": 33,
     "metadata": {},
     "output_type": "execute_result"
    }
   ],
   "source": [
    "r2_score(y_test_p, y_test_p)\n"
   ]
  },
  {
   "cell_type": "code",
   "execution_count": 34,
   "metadata": {},
   "outputs": [
    {
     "data": {
      "text/plain": [
       "0.83736824473442317"
      ]
     },
     "execution_count": 34,
     "metadata": {},
     "output_type": "execute_result"
    }
   ],
   "source": [
    "r2_score(y_test_r, y_pred_r)"
   ]
  },
  {
   "cell_type": "code",
   "execution_count": 35,
   "metadata": {},
   "outputs": [],
   "source": [
    "from sklearn.metrics import mean_squared_error"
   ]
  },
  {
   "cell_type": "code",
   "execution_count": 36,
   "metadata": {},
   "outputs": [
    {
     "data": {
      "text/plain": [
       "0.67034271728287786"
      ]
     },
     "execution_count": 36,
     "metadata": {},
     "output_type": "execute_result"
    }
   ],
   "source": [
    "mean_squared_error(y_test_p, y_pred_p)"
   ]
  },
  {
   "cell_type": "code",
   "execution_count": 37,
   "metadata": {},
   "outputs": [],
   "source": [
    "from sklearn.metrics import explained_variance_score"
   ]
  },
  {
   "cell_type": "code",
   "execution_count": 38,
   "metadata": {},
   "outputs": [
    {
     "data": {
      "text/plain": [
       "0.83711694174803963"
      ]
     },
     "execution_count": 38,
     "metadata": {},
     "output_type": "execute_result"
    }
   ],
   "source": [
    "explained_variance_score(y_test_p, y_pred_p)"
   ]
  },
  {
   "cell_type": "code",
   "execution_count": 39,
   "metadata": {},
   "outputs": [],
   "source": [
    "from sklearn.metrics import median_absolute_error"
   ]
  },
  {
   "cell_type": "code",
   "execution_count": 40,
   "metadata": {},
   "outputs": [
    {
     "data": {
      "text/plain": [
       "0.32264290948545504"
      ]
     },
     "execution_count": 40,
     "metadata": {},
     "output_type": "execute_result"
    }
   ],
   "source": [
    "median_absolute_error(y_test_p, y_pred_p)"
   ]
  },
  {
   "cell_type": "code",
   "execution_count": null,
   "metadata": {},
   "outputs": [],
   "source": []
  }
 ],
 "metadata": {
  "kernelspec": {
   "display_name": "Python 3",
   "language": "python",
   "name": "python3"
  },
  "language_info": {
   "codemirror_mode": {
    "name": "ipython",
    "version": 3
   },
   "file_extension": ".py",
   "mimetype": "text/x-python",
   "name": "python",
   "nbconvert_exporter": "python",
   "pygments_lexer": "ipython3",
   "version": "3.6.3"
  }
 },
 "nbformat": 4,
 "nbformat_minor": 2
}
